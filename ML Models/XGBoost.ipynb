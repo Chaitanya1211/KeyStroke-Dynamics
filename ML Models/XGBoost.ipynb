{
  "nbformat": 4,
  "nbformat_minor": 0,
  "metadata": {
    "colab": {
      "name": "XGBoost.ipynb",
      "provenance": []
    },
    "kernelspec": {
      "name": "python3",
      "display_name": "Python 3"
    },
    "language_info": {
      "name": "python"
    }
  },
  "cells": [
    {
      "cell_type": "code",
      "execution_count": 2,
      "metadata": {
        "colab": {
          "base_uri": "https://localhost:8080/"
        },
        "id": "pug3f8ec7WIZ",
        "outputId": "c40d291a-4c39-408b-a5f8-f949b642babd"
      },
      "outputs": [
        {
          "output_type": "stream",
          "name": "stdout",
          "text": [
            "Mounted at /content/drive\n"
          ]
        }
      ],
      "source": [
        "from google.colab import drive\n",
        "drive.mount('/content/drive')"
      ]
    },
    {
      "cell_type": "code",
      "source": [
        "import pandas as pd       # dataframe operations \n",
        "import numpy as np \n",
        "import xgboost as xgb\n",
        "from sklearn.model_selection import train_test_split\n"
      ],
      "metadata": {
        "id": "Q87fJxJd9bSz"
      },
      "execution_count": 3,
      "outputs": []
    },
    {
      "cell_type": "code",
      "source": [
        "path = '/content/drive/My Drive/KeystrokeData.csv'\n",
        "df = pd.read_csv(path)"
      ],
      "metadata": {
        "id": "s4JiW84l9d-2"
      },
      "execution_count": 4,
      "outputs": []
    },
    {
      "cell_type": "code",
      "source": [
        "df.drop(['User'],axis=1,inplace=True)"
      ],
      "metadata": {
        "id": "xxv0QneoBNui"
      },
      "execution_count": 6,
      "outputs": []
    },
    {
      "cell_type": "code",
      "source": [
        "df['Target'] = pd.factorize(df['Target'])[0]"
      ],
      "metadata": {
        "id": "hPz04XBaA8gK"
      },
      "execution_count": 7,
      "outputs": []
    },
    {
      "cell_type": "code",
      "source": [
        "df.head()"
      ],
      "metadata": {
        "id": "FG5OGHnKC66m"
      },
      "execution_count": null,
      "outputs": []
    },
    {
      "cell_type": "code",
      "source": [
        "train, test = train_test_split(df, test_size = 0.4,random_state=1)\n",
        "features = list(df.columns[1:32])\n",
        "X_train = train[features]\n",
        "y_train = train['Target']\n",
        "X_test = test[features]\n",
        "y_test = test['Target']"
      ],
      "metadata": {
        "id": "etF-TiWLGj_r"
      },
      "execution_count": 29,
      "outputs": []
    },
    {
      "cell_type": "code",
      "source": [
        "clf_xgb=xgb.XGBClassifier(objective='binary:logistic',missing=None,seed=42)\n",
        "clf_xgb.fit(X_train,y_train,verbose=True,early_stopping_rounds=10,eval_metric='logloss',eval_set=[(X_test,y_test)])"
      ],
      "metadata": {
        "id": "_eJYr7j4GqRh"
      },
      "execution_count": null,
      "outputs": []
    },
    {
      "cell_type": "code",
      "source": [
        "y_pred=clf_xgb.predict(X_test)"
      ],
      "metadata": {
        "id": "_s0dp5t1JOrH"
      },
      "execution_count": 31,
      "outputs": []
    },
    {
      "cell_type": "code",
      "source": [
        "from sklearn.metrics import accuracy_score\n",
        "\n",
        "accuracy_score(y_test, y_pred)"
      ],
      "metadata": {
        "colab": {
          "base_uri": "https://localhost:8080/"
        },
        "id": "PuSatTnLJw8G",
        "outputId": "8d715043-6d19-4998-a5fc-482de77360b0"
      },
      "execution_count": 32,
      "outputs": [
        {
          "output_type": "execute_result",
          "data": {
            "text/plain": [
              "1.0"
            ]
          },
          "metadata": {},
          "execution_count": 32
        }
      ]
    },
    {
      "cell_type": "code",
      "source": [
        ""
      ],
      "metadata": {
        "id": "WWvHSYwnxNf9"
      },
      "execution_count": null,
      "outputs": []
    }
  ]
}