{
  "nbformat": 4,
  "nbformat_minor": 0,
  "metadata": {
    "colab": {
      "name": "Random Forest.ipynb",
      "provenance": []
    },
    "kernelspec": {
      "name": "python3",
      "display_name": "Python 3"
    },
    "language_info": {
      "name": "python"
    }
  },
  "cells": [
    {
      "cell_type": "code",
      "execution_count": 1,
      "metadata": {
        "colab": {
          "base_uri": "https://localhost:8080/"
        },
        "id": "Wzswsqvxg_6f",
        "outputId": "bdb71750-7d19-444c-eb84-a4c37c636be0"
      },
      "outputs": [
        {
          "output_type": "stream",
          "name": "stdout",
          "text": [
            "Mounted at /content/drive\n"
          ]
        }
      ],
      "source": [
        "from google.colab import drive\n",
        "drive.mount('/content/drive')"
      ]
    },
    {
      "cell_type": "code",
      "source": [
        "import pandas as pd       # dataframe operations \n",
        "import numpy as np \n",
        "from sklearn.model_selection import train_test_split"
      ],
      "metadata": {
        "id": "TDvPSZ2MhSJY"
      },
      "execution_count": 2,
      "outputs": []
    },
    {
      "cell_type": "code",
      "source": [
        "path = '/content/drive/My Drive/KeystrokeData.csv'\n",
        "df = pd.read_csv(path)\n",
        "df.head"
      ],
      "metadata": {
        "colab": {
          "base_uri": "https://localhost:8080/"
        },
        "id": "Vc5R3hXohh_y",
        "outputId": "f1c007b1-0a37-4aeb-8080-d3fd10b92d54"
      },
      "execution_count": 3,
      "outputs": [
        {
          "output_type": "execute_result",
          "data": {
            "text/plain": [
              "<bound method NDFrame.head of         User  H.period  DD.period.t  UD.period.t    H.t  DD.t.i  UD.t.i  \\\n",
              "0     Nikhil     0.119        0.272        0.153  0.103   0.208   0.105   \n",
              "1     Nikhil     0.119        0.272        0.153  0.103   0.216   0.113   \n",
              "2     Nikhil     0.127        0.352        0.225  0.143   0.240   0.097   \n",
              "3     Nikhil     0.122        0.315        0.193  0.127   0.200   0.073   \n",
              "4     Nikhil     0.143        0.232        0.089  0.119   0.208   0.089   \n",
              "...      ...       ...          ...          ...    ...     ...     ...   \n",
              "1417   Vishu     0.104        0.528        0.424  0.091   0.120   0.029   \n",
              "1418   Vishu     0.139        0.432        0.293  0.105   0.101  -0.004   \n",
              "1419   Vishu     0.111        0.304        0.193  0.091   0.125   0.034   \n",
              "1420   Vishu     0.109        0.411        0.302  0.079   0.173   0.094   \n",
              "1421   Vishu     0.080        0.292        0.212  0.078   0.132   0.054   \n",
              "\n",
              "        H.i  DD.i.e  UD.i.e  ...  DD.a.n  UD.a.n    H.n  DD.n.l  UD.n.l  \\\n",
              "0     0.103   0.288   0.185  ...   0.328   0.225  0.135   0.264   0.129   \n",
              "1     0.103   0.287   0.184  ...   0.312   0.209  0.151   0.272   0.121   \n",
              "2     0.143   0.344   0.201  ...   0.297   0.154  0.150   0.263   0.113   \n",
              "3     0.111   0.400   0.289  ...   0.200   0.089  0.143   0.240   0.097   \n",
              "4     0.127   0.264   0.137  ...   0.184   0.041  0.151   0.224   0.073   \n",
              "...     ...     ...     ...  ...     ...     ...    ...     ...     ...   \n",
              "1417  0.092   0.240   0.148  ...   0.135   0.048  0.104   0.135   0.031   \n",
              "1418  0.110   0.243   0.133  ...   0.092   0.000  0.116   0.166   0.050   \n",
              "1419  0.083   1.012   0.929  ...   0.100  -0.020  0.133   0.137   0.004   \n",
              "1420  0.095   0.179   0.084  ...   0.132   0.023  0.100   0.167   0.067   \n",
              "1421  0.097   0.199   0.102  ...   0.087  -0.013  0.113   0.209   0.096   \n",
              "\n",
              "        H.l  DD.l.Return  UD.l.Return  H.Return    Target  \n",
              "0     0.111        0.311        0.200     0.112   Genuine  \n",
              "1     0.110        0.304        0.194     0.151   Genuine  \n",
              "2     0.127        0.304        0.177     0.127   Genuine  \n",
              "3     0.159        0.176        0.017     0.087   Genuine  \n",
              "4     0.206        0.192       -0.014     0.119   Genuine  \n",
              "...     ...          ...          ...       ...       ...  \n",
              "1417  0.074        0.225        0.151     0.103  Imposter  \n",
              "1418  0.079        0.240        0.161     0.088  Imposter  \n",
              "1419  0.083        0.216        0.133     0.081  Imposter  \n",
              "1420  0.099        0.196        0.097     0.085  Imposter  \n",
              "1421  0.105        0.194        0.089     0.101  Imposter  \n",
              "\n",
              "[1422 rows x 33 columns]>"
            ]
          },
          "metadata": {},
          "execution_count": 3
        }
      ]
    },
    {
      "cell_type": "code",
      "source": [
        "df['Target'] = pd.factorize(df['Target'])[0]"
      ],
      "metadata": {
        "id": "KAzBtnxOhky0"
      },
      "execution_count": 4,
      "outputs": []
    },
    {
      "cell_type": "code",
      "source": [
        "train, test = train_test_split(df, test_size = 0.33,random_state=42)\n",
        "features = list(df.columns[1:32])\n",
        "X_train = train[features]\n",
        "y_train = train['Target']\n",
        "X_test = test[features]\n",
        "y_test = test['Target']"
      ],
      "metadata": {
        "id": "ItsYZRXlhnQ9"
      },
      "execution_count": 39,
      "outputs": []
    },
    {
      "cell_type": "code",
      "source": [
        "# Import the model we are using\n",
        "from sklearn.ensemble import RandomForestClassifier\n",
        "# Instantiate model with 1000 decision trees\n",
        "rf = RandomForestClassifier(n_estimators = 1000, random_state = 42)\n",
        "\n",
        "rf.fit(X_train, y_train);"
      ],
      "metadata": {
        "id": "O6BVmbPSho5j"
      },
      "execution_count": 40,
      "outputs": []
    },
    {
      "cell_type": "code",
      "source": [
        "y_pred=rf.predict(X_test)"
      ],
      "metadata": {
        "id": "G7TZWrWSipGs"
      },
      "execution_count": 41,
      "outputs": []
    },
    {
      "cell_type": "code",
      "source": [
        "from sklearn.metrics import accuracy_score\n",
        "\n",
        "accuracy_score(y_test,y_pred)"
      ],
      "metadata": {
        "colab": {
          "base_uri": "https://localhost:8080/"
        },
        "id": "rFULw1t_jvHL",
        "outputId": "0072cd50-d734-4cf9-f743-fb91b1430b2e"
      },
      "execution_count": 42,
      "outputs": [
        {
          "output_type": "execute_result",
          "data": {
            "text/plain": [
              "0.9957446808510638"
            ]
          },
          "metadata": {},
          "execution_count": 42
        }
      ]
    },
    {
      "cell_type": "code",
      "source": [
        ""
      ],
      "metadata": {
        "id": "3HbdPe0FlsIA"
      },
      "execution_count": null,
      "outputs": []
    }
  ]
}